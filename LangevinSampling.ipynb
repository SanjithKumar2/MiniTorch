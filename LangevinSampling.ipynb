{
 "cells": [
  {
   "cell_type": "code",
   "execution_count": 1,
   "metadata": {},
   "outputs": [],
   "source": [
    "import numpy as np\n",
    "import matplotlib.pyplot as plt"
   ]
  },
  {
   "cell_type": "markdown",
   "metadata": {},
   "source": [
    "##### Langevin Sampling\n",
    "\n",
    "```\n",
    "t = 0\n",
    "X_0 = N(0,1)\n",
    "\n",
    "for t -> 0 to 1000:\n",
    "    Z_t = N(0,1)\n",
    "    X_t+1 = X_t + (sig/2) * F(X_t) + sqrt(sig) * Z_t\n",
    "\n",
    "return X_1000\n",
    "```\n",
    "\n",
    "X_1000 ~ P_x(X)\n",
    "\n",
    "Here F(X) = M'(X) (Where M(X) = log P_x(X)) (F(X) tells the direction of increase of likelihood given the Probability Density Function)"
   ]
  },
  {
   "cell_type": "code",
   "execution_count": 16,
   "metadata": {},
   "outputs": [],
   "source": [
    "samples = np.random.uniform(0,1,30000000)"
   ]
  },
  {
   "cell_type": "code",
   "execution_count": 17,
   "metadata": {},
   "outputs": [],
   "source": [
    "def generate_dice_samples(samples):\n",
    "    result=[]\n",
    "    for sample in samples:\n",
    "        if 0 <= sample <= 1/6:\n",
    "            result.append(1)\n",
    "        elif 1/6 < sample <= 2/6:\n",
    "            result.append(2)\n",
    "        elif 2/6 < sample <= 3/6:\n",
    "            result.append(3)\n",
    "        elif 3/6 < sample <= 4/6:\n",
    "            result.append(4)\n",
    "        elif 4/6 < sample <= 5/6:\n",
    "            result.append(5)\n",
    "        elif 5/6 < sample <= 1:\n",
    "            result.append(6)\n",
    "    return result\n",
    "\n",
    "def plot_samples_histogram(samples):\n",
    "    plt.figure()\n",
    "    plt.hist(samples)\n",
    "    plt.xlabel(\"Samples\")\n",
    "    plt.ylabel(\"Freq\")\n",
    "    plt.show()"
   ]
  },
  {
   "cell_type": "code",
   "execution_count": null,
   "metadata": {},
   "outputs": [],
   "source": [
    "samples = generate_dice_samples(samples)\n",
    "plot_samples_histogram(samples)"
   ]
  },
  {
   "cell_type": "code",
   "execution_count": 9,
   "metadata": {},
   "outputs": [
    {
     "data": {
      "image/png": "[encoded data removed]",
      "text/plain": [
       "<Figure size 640x480 with 1 Axes>"
      ]
     },
     "metadata": {},
     "output_type": "display_data"
    }
   ],
   "source": [
    "def F(x):\n",
    "    if 0 <= x <= 1:\n",
    "        return 0\n",
    "    elif x < 0:\n",
    "        return -x\n",
    "    else:\n",
    "        return -x\n",
    "\n",
    "def Langevin_sampling(sig = 0.001):\n",
    "    \n",
    "    x = np.random.uniform(0,1,1)\n",
    "    for i in range(10000):\n",
    "        zi = np.random.uniform(0,1,1)\n",
    "        x = x + F(x) + np.sqrt(sig) * zi\n",
    "    return x\n",
    "\n",
    "def dice_sampling(size):\n",
    "    samples = []\n",
    "    for _ in range(size):\n",
    "        samples.append(Langevin_sampling())\n",
    "    return samples\n",
    "\n",
    "samples = dice_sampling(1000)\n",
    "samples = generate_dice_samples(samples)\n",
    "plot_samples_histogram(samples)"
   ]
  },
  {
   "cell_type": "code",
   "execution_count": 10,
   "metadata": {},
   "outputs": [
    {
     "data": {
      "text/plain": [
       "[]"
      ]
     },
     "execution_count": 10,
     "metadata": {},
     "output_type": "execute_result"
    }
   ],
   "source": [
    "samples"
   ]
  },
  {
   "cell_type": "markdown",
   "metadata": {},
   "source": [
    "## PCA\n",
    "\n",
    "1. Fit a line that best represents the datapoints (the line must pass through origin) by maximizing the distance between the origin and the projected point of the datapoint on the line.\n",
    "\n",
    "2. The sum of squared distances between the origin and the projected points after the bestfit line is found is the eigen value or variance of that principal component (which is the eigen vector).\n",
    "\n",
    "3. The next PC is the line perpendicular to the previous PCs and passing through the origin... and so on\n",
    "\n",
    "For Example If you have the data points below\n",
    "\n",
    "| Feature   | Sampl 1 | Sampl 2 | Sampl 3 | Sampl 4 | Sampl 5 | Sampl 6 |\n",
    "|-----------|---------|---------|---------|---------|---------|---------|\n",
    "| feature_1 | 8.1     | 9.4     | 7.6     | 1.2     | 2.2     | 0.7     |\n",
    "| feature_2 | 2.3     | 2.4     | 1.1     | 2.6     | 1.7     | 2.3     |\n",
    "\n",
    "3 Things to keep track of is that:\n",
    "\n",
    "    1. The first point where we fit a line can be interpreted as centering the data points along the feature axis to 0"
   ]
  },
  {
   "cell_type": "code",
   "execution_count": null,
   "metadata": {},
   "outputs": [],
   "source": []
  },
  {
   "cell_type": "code",
   "execution_count": null,
   "metadata": {},
   "outputs": [],
   "source": []
  }
 ],
 "metadata": {
  "kernelspec": {
   "display_name": "xformers-env",
   "language": "python",
   "name": "python3"
  },
  "language_info": {
   "codemirror_mode": {
    "name": "ipython",
    "version": 3
   },
   "file_extension": ".py",
   "mimetype": "text/x-python",
   "name": "python",
   "nbconvert_exporter": "python",
   "pygments_lexer": "ipython3",
   "version": "3.12.9"
  }
 },
 "nbformat": 4,
 "nbformat_minor": 2
}
