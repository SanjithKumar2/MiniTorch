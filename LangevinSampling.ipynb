{
 "cells": [
  {
   "cell_type": "code",
   "execution_count": 1,
   "metadata": {},
   "outputs": [],
   "source": [
    "import numpy as np\n",
    "import matplotlib.pyplot as plt"
   ]
  },
  {
   "cell_type": "markdown",
   "metadata": {},
   "source": [
    "##### Langevin Sampling\n",
    "\n",
    "```\n",
    "t = 0\n",
    "X_0 = N(0,1)\n",
    "\n",
    "for t -> 0 to 1000:\n",
    "    Z_t = N(0,1)\n",
    "    X_t+1 = X_t + (sig/2) * F(X_t) + sqrt(sig) * Z_t\n",
    "\n",
    "return X_1000\n",
    "```\n",
    "\n",
    "X_1000 ~ P_x(X)\n",
    "\n",
    "Here F(X) = M'(X) (Where M(X) = log P_x(X)) (F(X) tells the direction of increase of likelihood given the Probability Density Function)"
   ]
  },
  {
   "cell_type": "code",
   "execution_count": 16,
   "metadata": {},
   "outputs": [],
   "source": [
    "samples = np.random.uniform(0,1,30000000)"
   ]
  },
  {
   "cell_type": "code",
   "execution_count": 17,
   "metadata": {},
   "outputs": [],
   "source": [
    "def generate_dice_samples(samples):\n",
    "    result=[]\n",
    "    for sample in samples:\n",
    "        if 0 <= sample <= 1/6:\n",
    "            result.append(1)\n",
    "        elif 1/6 < sample <= 2/6:\n",
    "            result.append(2)\n",
    "        elif 2/6 < sample <= 3/6:\n",
    "            result.append(3)\n",
    "        elif 3/6 < sample <= 4/6:\n",
    "            result.append(4)\n",
    "        elif 4/6 < sample <= 5/6:\n",
    "            result.append(5)\n",
    "        elif 5/6 < sample <= 1:\n",
    "            result.append(6)\n",
    "    return result\n",
    "\n",
    "def plot_samples_histogram(samples):\n",
    "    plt.figure()\n",
    "    plt.hist(samples)\n",
    "    plt.xlabel(\"Samples\")\n",
    "    plt.ylabel(\"Freq\")\n",
    "    plt.show()"
   ]
  },
  {
   "cell_type": "code",
   "execution_count": null,
   "metadata": {},
   "outputs": [],
   "source": [
    "samples = generate_dice_samples(samples)\n",
    "plot_samples_histogram(samples)"
   ]
  },
  {
   "cell_type": "code",
   "execution_count": 9,
   "metadata": {},
   "outputs": [
    {
     "data": {
      "image/png": "[encoded data removed]",
      "text/plain": [
       "<Figure size 640x480 with 1 Axes>"
      ]
     },
     "metadata": {},
     "output_type": "display_data"
    }
   ],
   "source": [
    "def F(x):\n",
    "    if 0 <= x <= 1:\n",
    "        return 0\n",
    "    elif x < 0:\n",
    "        return -x\n",
    "    else:\n",
    "        return -x\n",
    "\n",
    "def Langevin_sampling(sig = 0.001):\n",
    "    \n",
    "    x = np.random.uniform(0,1,1)\n",
    "    for i in range(10000):\n",
    "        zi = np.random.uniform(0,1,1)\n",
    "        x = x + F(x) + np.sqrt(sig) * zi\n",
    "    return x\n",
    "\n",
    "def dice_sampling(size):\n",
    "    samples = []\n",
    "    for _ in range(size):\n",
    "        samples.append(Langevin_sampling())\n",
    "    return samples\n",
    "\n",
    "samples = dice_sampling(1000)\n",
    "samples = generate_dice_samples(samples)\n",
    "plot_samples_histogram(samples)"
   ]
  },
  {
   "cell_type": "code",
   "execution_count": 10,
   "metadata": {},
   "outputs": [
    {
     "data": {
      "text/plain": [
       "[]"
      ]
     },
     "execution_count": 10,
     "metadata": {},
     "output_type": "execute_result"
    }
   ],
   "source": [
    "samples"
   ]
  },
  {
   "cell_type": "markdown",
   "metadata": {},
   "source": [
    "## PCA\n",
    "\n",
    "1. Fit a line that best represents the datapoints (the line must pass through origin) by maximizing the distance between the origin and the projected point of the datapoint on the line.\n",
    "\n",
    "2. The sum of squared distances between the origin and the projected points after the bestfit line is found is the eigen value or variance of that principal component (which is the eigen vector).\n",
    "\n",
    "3. The next PC is the line perpendicular to the previous PCs and passing through the origin... and so on\n",
    "\n",
    "For Example If you have the data points below\n",
    "\n",
    "| Feature   | Sampl 1 | Sampl 2 | Sampl 3 | Sampl 4 | Sampl 5 | Sampl 6 |\n",
    "|-----------|---------|---------|---------|---------|---------|---------|\n",
    "| feature_1 | 8.1     | 9.4     | 7.6     | 1.2     | 2.2     | 0.7     |\n",
    "| feature_2 | 2.3     | 2.4     | 1.1     | 2.6     | 1.7     | 2.3     |\n",
    "\n",
    "##### 3 Things to keep track of is that:\n",
    "\n",
    "1. The first point where we fit a line can be interpreted as centering the data points along the feature axis to 0 and then getting the covariance matrix which is same as calculating the squared distances between origins and projections on the best fit line.\n",
    "\n",
    "2. The PCA are nothing but Eigen Vectors\n",
    "\n",
    "3. The corresponding Eigen Values are the variance along the Eigen Vectors"
   ]
  },
  {
   "cell_type": "code",
   "execution_count": null,
   "metadata": {},
   "outputs": [],
   "source": [
    "# Data Matrix X. Each Row Corresponds to Samples, Each Columns to Features\n",
    "import numpy as np\n",
    "X = [[8.1,2.3],\n",
    "     [9.4,2.4],\n",
    "     [7.6,1.1],\n",
    "     [1.2,2.6],\n",
    "     [2.2,1.7],\n",
    "     [0.7,2.3]]\n",
    "X = np.array(X)"
   ]
  },
  {
   "cell_type": "code",
   "execution_count": 2,
   "metadata": {},
   "outputs": [],
   "source": [
    "# Now to center the data along the feature axis, take the mean of each feature independently and subtract the mean from all the corresponding feature values\n",
    "# Step 1: Mean along feature 1 and feature 2\n",
    "Feat1_mean, Feat2_mean = X.T.mean(-1)\n",
    "\n",
    "# Step 2: Subtract the mean of the features from the corresponding feature values \n",
    "X[:,0] -= Feat1_mean\n",
    "X[:,1] -= Feat2_mean"
   ]
  },
  {
   "cell_type": "code",
   "execution_count": 3,
   "metadata": {},
   "outputs": [],
   "source": [
    "# Now to calculate the Covariance Matrix, use matrix multiplication, this simply calculates shows the variance between each and every feature\n",
    "# Formula is (1/m-1) * (X.T @ X)\n",
    "C = (1/(X.shape[0]-1)) * (X.T @ X)\n",
    "\n",
    "# C is a transformation when applied on the feature space just scales certain orthogonal vectors which are the principal components... i.e. the eigen vectors of C\n",
    "# To get the Principal components find the Eigen Vectors of C\n",
    "# Formula: Cv = lv considerinf v = I, CI = lI -> CI-lI = 0 -> C-l = 0"
   ]
  },
  {
   "cell_type": "code",
   "execution_count": null,
   "metadata": {},
   "outputs": [
    {
     "data": {
      "text/plain": [
       "array([[15.27866667, -0.46533333],\n",
       "       [-0.46533333,  0.31466667]])"
      ]
     },
     "execution_count": 4,
     "metadata": {},
     "output_type": "execute_result"
    }
   ],
   "source": [
    "det()"
   ]
  },
  {
   "cell_type": "code",
   "execution_count": 5,
   "metadata": {},
   "outputs": [
    {
     "data": {
      "text/plain": [
       "0.21653480088899998"
      ]
     },
     "execution_count": 5,
     "metadata": {},
     "output_type": "execute_result"
    }
   ],
   "source": [
    "0.465333 * 0.465333"
   ]
  },
  {
   "cell_type": "code",
   "execution_count": 6,
   "metadata": {},
   "outputs": [
    {
     "data": {
      "text/plain": [
       "4.807692308889"
      ]
     },
     "execution_count": 6,
     "metadata": {},
     "output_type": "execute_result"
    }
   ],
   "source": [
    "15.278667 * 0.314667"
   ]
  },
  {
   "cell_type": "code",
   "execution_count": 7,
   "metadata": {},
   "outputs": [
    {
     "data": {
      "text/plain": [
       "15.593334"
      ]
     },
     "execution_count": 7,
     "metadata": {},
     "output_type": "execute_result"
    }
   ],
   "source": [
    "15.278667 + 0.314667"
   ]
  },
  {
   "cell_type": "code",
   "execution_count": 8,
   "metadata": {},
   "outputs": [
    {
     "data": {
      "text/plain": [
       "4.591157508"
      ]
     },
     "execution_count": 8,
     "metadata": {},
     "output_type": "execute_result"
    }
   ],
   "source": [
    "4.807692308889 - 0.21653480088899998"
   ]
  },
  {
   "cell_type": "code",
   "execution_count": 10,
   "metadata": {},
   "outputs": [
    {
     "name": "stdout",
     "output_type": "stream",
     "text": [
      "Roots: ((15.293123416260219+0j), (0.3002105837397817+0j))\n"
     ]
    }
   ],
   "source": [
    "import cmath  # handles complex numbers\n",
    "\n",
    "def quadratic_roots(a, b, c):\n",
    "    # Calculate the discriminant\n",
    "    d = (b**2) - (4*a*c)\n",
    "    \n",
    "    # Find two solutions\n",
    "    root1 = (-b + cmath.sqrt(d)) / (2*a)\n",
    "    root2 = (-b - cmath.sqrt(d)) / (2*a)\n",
    "    \n",
    "    return root1, root2\n",
    "\n",
    "# Example\n",
    "a, b, c = 1, -15.593334, 4.591157508\n",
    "roots = quadratic_roots(a, b, c)\n",
    "print(\"Roots:\", roots)"
   ]
  },
  {
   "cell_type": "code",
   "execution_count": 11,
   "metadata": {},
   "outputs": [
    {
     "data": {
      "text/plain": [
       "(15.3, 0.3)"
      ]
     },
     "execution_count": 11,
     "metadata": {},
     "output_type": "execute_result"
    }
   ],
   "source": [
    "15.3, 0.3"
   ]
  },
  {
   "cell_type": "code",
   "execution_count": 15,
   "metadata": {},
   "outputs": [
    {
     "data": {
      "text/plain": [
       "(14.978456416260219, 0.01445608626021827)"
      ]
     },
     "execution_count": 15,
     "metadata": {},
     "output_type": "execute_result"
    }
   ],
   "source": [
    "15.278667 - 0.3002105837397817, 0.31466667 - 0.3002105837397817"
   ]
  },
  {
   "cell_type": "code",
   "execution_count": null,
   "metadata": {},
   "outputs": [
    {
     "data": {
      "text/plain": [
       "[[-0.014456416260218319, -0.46533333], [-0.46533333, -14.97845674626022]]"
      ]
     },
     "execution_count": 13,
     "metadata": {},
     "output_type": "execute_result"
    }
   ],
   "source": [
    "[[14.978456416260219, -0.46533333],\n",
    "[-0.46533333,  0.01445608626021827]]"
   ]
  },
  {
   "cell_type": "code",
   "execution_count": null,
   "metadata": {},
   "outputs": [],
   "source": [
    "(14.97845674626022*())/(-0.46533333)"
   ]
  },
  {
   "cell_type": "code",
   "execution_count": null,
   "metadata": {},
   "outputs": [
    {
     "name": "stdout",
     "output_type": "stream",
     "text": [
      "Eigenvector: [-0.99951777  0.03105186]\n"
     ]
    }
   ],
   "source": [
    "import numpy as np\n",
    "\n",
    "def eigenvector_from_matrix(mat):\n",
    "    \"\"\"\n",
    "    Solves (A - λI)v = 0 for v (non-trivial solution).\n",
    "    mat: 2x2 numpy array (already A - λI).\n",
    "    Returns normalized eigenvector.\n",
    "    \"\"\"\n",
    "    # Use SVD to find null space\n",
    "    u, s, vh = np.linalg.svd(mat)\n",
    "    \n",
    "    # The eigenvector corresponds to the smallest singular value\n",
    "    vec = vh[-1]\n",
    "    \n",
    "    # Normalize (optional)\n",
    "    vec = vec / np.linalg.norm(vec)\n",
    "    return vec\n",
    "\n",
    "# Example usage\n",
    "mat = np.array([[14.978456416260219, -0.46533333],\n",
    "[-0.46533333,  0.01445608626021827]])\n",
    "\n",
    "eigenvector = eigenvector_from_matrix(mat)\n",
    "print(\"Eigenvector:\", eigenvector)\n"
   ]
  },
  {
   "cell_type": "code",
   "execution_count": 16,
   "metadata": {},
   "outputs": [
    {
     "name": "stdout",
     "output_type": "stream",
     "text": [
      "Eigenvector: [-0.03105186 -0.99951777]\n"
     ]
    }
   ],
   "source": [
    "mat = np.array([[14.978456416260219, -0.46533333],\n",
    "[-0.46533333,  0.01445608626021827]])\n",
    "\n",
    "eigenvector = eigenvector_from_matrix(mat)\n",
    "print(\"Eigenvector:\", eigenvector)"
   ]
  },
  {
   "cell_type": "code",
   "execution_count": 17,
   "metadata": {},
   "outputs": [
    {
     "data": {
      "text/plain": [
       "0.0"
      ]
     },
     "execution_count": 17,
     "metadata": {},
     "output_type": "execute_result"
    }
   ],
   "source": [
    "np.dot([-0.99951777,0.03105186], [-0.03105186,-0.99951777])"
   ]
  },
  {
   "cell_type": "code",
   "execution_count": 19,
   "metadata": {},
   "outputs": [
    {
     "data": {
      "text/plain": [
       "0.9807475050723737"
      ]
     },
     "execution_count": 19,
     "metadata": {},
     "output_type": "execute_result"
    }
   ],
   "source": [
    "15.293123416260219/(15.293123416260219 + 0.3002105837397817)"
   ]
  },
  {
   "cell_type": "code",
   "execution_count": 21,
   "metadata": {},
   "outputs": [],
   "source": [
    "pc1 = np.array([[-0.99951777,0.03105186]])"
   ]
  },
  {
   "cell_type": "code",
   "execution_count": 22,
   "metadata": {},
   "outputs": [
    {
     "data": {
      "text/plain": [
       "(1, 2)"
      ]
     },
     "execution_count": 22,
     "metadata": {},
     "output_type": "execute_result"
    }
   ],
   "source": [
    "pc1.shape"
   ]
  },
  {
   "cell_type": "code",
   "execution_count": 24,
   "metadata": {},
   "outputs": [
    {
     "data": {
      "text/plain": [
       "array([[-3.22452869],\n",
       "       [-4.5207966 ],\n",
       "       [-2.76203204],\n",
       "       [ 3.68145948],\n",
       "       [ 2.65399504],\n",
       "       [ 4.17190281]])"
      ]
     },
     "execution_count": 24,
     "metadata": {},
     "output_type": "execute_result"
    }
   ],
   "source": [
    "X @ pc1.T"
   ]
  },
  {
   "cell_type": "code",
   "execution_count": null,
   "metadata": {},
   "outputs": [],
   "source": []
  }
 ],
 "metadata": {
  "kernelspec": {
   "display_name": "xformers-env",
   "language": "python",
   "name": "python3"
  },
  "language_info": {
   "codemirror_mode": {
    "name": "ipython",
    "version": 3
   },
   "file_extension": ".py",
   "mimetype": "text/x-python",
   "name": "python",
   "nbconvert_exporter": "python",
   "pygments_lexer": "ipython3",
   "version": "3.12.9"
  }
 },
 "nbformat": 4,
 "nbformat_minor": 2
}
